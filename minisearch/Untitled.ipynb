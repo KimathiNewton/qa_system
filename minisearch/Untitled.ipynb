{
 "cells": [
  {
   "cell_type": "code",
   "execution_count": 1,
   "id": "b7dd4ffd-27cd-4d2a-99d1-db2d7cae9b9c",
   "metadata": {},
   "outputs": [],
   "source": [
    "from dotenv import load_dotenv\n",
    "# Importing the keys\n",
    "load_dotenv()\n",
    "import os"
   ]
  },
  {
   "cell_type": "code",
   "execution_count": 2,
   "id": "5d141bbe-2618-44ca-a3ea-e454d73a8238",
   "metadata": {},
   "outputs": [
    {
     "name": "stdout",
     "output_type": "stream",
     "text": [
      "File downloaded successfully.\n"
     ]
    }
   ],
   "source": [
    "import requests\n",
    "\n",
    "url = \"https://github.com/alexeygrigorev/llm-rag-workshop/raw/main/notebooks/documents.json\"\n",
    "response = requests.get(url)\n",
    "\n",
    "if response.status_code == 200:\n",
    "    with open(\"documents.json\", \"wb\") as f:\n",
    "        f.write(response.content)\n",
    "    print(\"File downloaded successfully.\")\n",
    "else:\n",
    "    print(\"Failed to download the file.\")\n"
   ]
  },
  {
   "cell_type": "code",
   "execution_count": 38,
   "id": "4512ee91-ece1-4cff-94ca-17cd07be47ca",
   "metadata": {},
   "outputs": [],
   "source": [
    "import json\n",
    "\n",
    "with open('./documents.json', 'rt') as f_in:\n",
    "    documents_file = json.load(f_in)\n",
    "\n",
    "documents = []\n",
    "\n",
    "for course in documents_file:\n",
    "    course_name = course['course']\n",
    "\n",
    "    for doc in course['documents']:\n",
    "        doc['course'] = course_name\n",
    "        documents.append(doc)\n"
   ]
  },
  {
   "cell_type": "code",
   "execution_count": 39,
   "id": "90fb2e15-7489-423e-9e2a-cb83bf88c472",
   "metadata": {},
   "outputs": [
    {
     "data": {
      "text/plain": [
       "{'text': \"The purpose of this document is to capture frequently asked technical questions\\nThe exact day and hour of the course will be 15th Jan 2024 at 17h00. The course will start with the first  “Office Hours'' live.1\\nSubscribe to course public Google Calendar (it works from Desktop only).\\nRegister before the course starts using this link.\\nJoin the course Telegram channel with announcements.\\nDon’t forget to register in DataTalks.Club's Slack and join the channel.\",\n",
       " 'section': 'General course-related questions',\n",
       " 'question': 'Course - When will the course start?',\n",
       " 'course': 'data-engineering-zoomcamp'}"
      ]
     },
     "execution_count": 39,
     "metadata": {},
     "output_type": "execute_result"
    }
   ],
   "source": [
    "documents[0]"
   ]
  },
  {
   "cell_type": "code",
   "execution_count": 5,
   "id": "360073ce-7751-4ba3-ad81-e4dce730c9db",
   "metadata": {},
   "outputs": [
    {
     "data": {
      "text/plain": [
       "{'text': 'GitHub - DataTalksClub data-engineering-zoomcamp#prerequisites',\n",
       " 'section': 'General course-related questions',\n",
       " 'question': 'Course - What are the prerequisites for this course?',\n",
       " 'course': 'data-engineering-zoomcamp'}"
      ]
     },
     "execution_count": 5,
     "metadata": {},
     "output_type": "execute_result"
    }
   ],
   "source": [
    "documents[1]"
   ]
  },
  {
   "cell_type": "markdown",
   "id": "5e6aaaeb-484f-4d22-aebe-6a9e157a4408",
   "metadata": {},
   "source": [
    "# Retrival Augmentend Generation\n"
   ]
  },
  {
   "cell_type": "code",
   "execution_count": 6,
   "id": "5aec7510-78e4-4ce9-b099-d8797df9b709",
   "metadata": {},
   "outputs": [
    {
     "name": "stderr",
     "output_type": "stream",
     "text": [
      "  % Total    % Received % Xferd  Average Speed   Time    Time     Time  Current\n",
      "                                 Dload  Upload   Total   Spent    Left  Speed\n",
      "\n",
      "  0     0    0     0    0     0      0      0 --:--:-- --:--:-- --:--:--     0\n",
      "100  3832  100  3832    0     0   4925      0 --:--:-- --:--:-- --:--:--  4950\n"
     ]
    }
   ],
   "source": [
    "!curl -O https://raw.githubusercontent.com/DataTalksClub/llm-zoomcamp/main/01-intro/minsearch.py\n"
   ]
  },
  {
   "cell_type": "code",
   "execution_count": 40,
   "id": "b75ba60c-afdc-4086-8ced-ebd25af978c0",
   "metadata": {},
   "outputs": [],
   "source": [
    "import minsearch\n",
    "import json"
   ]
  },
  {
   "cell_type": "markdown",
   "id": "c779eb91-3142-41cc-94d7-23ce70d43e03",
   "metadata": {},
   "source": [
    "text_fields=[\"question\", \"text\", \"section\"]\n",
    "Purpose: Specifies the fields in your data that should be treated as text fields.\n",
    "Text Fields: These are typically fields containing large chunks of text that you want to be searchable. Full-text search capabilities (such as tokenization, stemming, and relevance ranking) are usually applied to these fields.\n",
    "Specified Fields:\n",
    "\"question\": A field that likely contains questions or queries.\n",
    "\"text\": A general text field.\n",
    "\"section\": Another text field, possibly indicating sections or segments of documents.\n",
    "When these fields are indexed, the search engine will treat them as full-text fields, making them searchable for keywords and phrases.\n",
    "\n",
    "keyword_fields=[\"course\"]\n",
    "Purpose: Specifies the fields in your data that should be treated as keyword fields.\n",
    "Keyword Fields: These fields are typically used for exact match searches. They might contain categorical data or metadata where you want to filter or match the exact terms rather than performing a full-text search.\n",
    "Specified Field:\n",
    "\"course\": A field that likely contains course identifiers, names, or types.\n",
    "When this field is indexed, the search engine will treat it as a keyword field, which means it will be used for filtering and exact matching rather than full-text searching.\n",
    "It the same as saying:\n",
    "SELECT * WHERE course = 'data-engineering-zoomcamp';\r\n",
    "\r\n"
   ]
  },
  {
   "cell_type": "code",
   "execution_count": 49,
   "id": "14665274-1ddb-4b44-8e83-d0e3a58effde",
   "metadata": {},
   "outputs": [],
   "source": [
    "\n",
    "index = minsearch.Index(\n",
    "    text_fields=[\"question\", \"text\", \"section\"],\n",
    "    keyword_fields=[\"course\"]\n",
    ")\n",
    "index.fit(documents)"
   ]
  },
  {
   "cell_type": "code",
   "execution_count": 50,
   "id": "64990acd-ec04-46fd-96ab-a30a723cac04",
   "metadata": {},
   "outputs": [],
   "source": [
    "q = 'Can I still enroll in the course?'"
   ]
  },
  {
   "cell_type": "code",
   "execution_count": 53,
   "id": "705f78ff-a887-4d23-8659-e151c9eb0755",
   "metadata": {},
   "outputs": [],
   "source": [
    "#To give more importance to the question\n",
    "boost ={'question':3.0, 'section':0.5}\n",
    "\n",
    "result=index.search(\n",
    "    query=q,\n",
    "    filter_dict={'course': 'data-engineering-zoomcamp'},\n",
    "    boost_dict=boost,\n",
    "    num_results=5\n",
    ")\n",
    "    "
   ]
  },
  {
   "cell_type": "code",
   "execution_count": 54,
   "id": "28b6ef62-c9a9-484b-b4a5-d6463afd60ba",
   "metadata": {},
   "outputs": [
    {
     "data": {
      "text/plain": [
       "[{'text': \"Yes, even if you don't register, you're still eligible to submit the homeworks.\\nBe aware, however, that there will be deadlines for turning in the final projects. So don't leave everything for the last minute.\",\n",
       "  'section': 'General course-related questions',\n",
       "  'question': 'Course - Can I still join the course after the start date?',\n",
       "  'course': 'data-engineering-zoomcamp'},\n",
       " {'text': 'Yes, we will keep all the materials after the course finishes, so you can follow the course at your own pace after it finishes.\\nYou can also continue looking at the homeworks and continue preparing for the next cohort. I guess you can also start working on your final capstone project.',\n",
       "  'section': 'General course-related questions',\n",
       "  'question': 'Course - Can I follow the course after it finishes?',\n",
       "  'course': 'data-engineering-zoomcamp'},\n",
       " {'text': \"The purpose of this document is to capture frequently asked technical questions\\nThe exact day and hour of the course will be 15th Jan 2024 at 17h00. The course will start with the first  “Office Hours'' live.1\\nSubscribe to course public Google Calendar (it works from Desktop only).\\nRegister before the course starts using this link.\\nJoin the course Telegram channel with announcements.\\nDon’t forget to register in DataTalks.Club's Slack and join the channel.\",\n",
       "  'section': 'General course-related questions',\n",
       "  'question': 'Course - When will the course start?',\n",
       "  'course': 'data-engineering-zoomcamp'},\n",
       " {'text': 'You can start by installing and setting up all the dependencies and requirements:\\nGoogle cloud account\\nGoogle Cloud SDK\\nPython 3 (installed with Anaconda)\\nTerraform\\nGit\\nLook over the prerequisites and syllabus to see if you are comfortable with these subjects.',\n",
       "  'section': 'General course-related questions',\n",
       "  'question': 'Course - What can I do before the course starts?',\n",
       "  'course': 'data-engineering-zoomcamp'},\n",
       " {'text': 'Yes, the slack channel remains open and you can ask questions there. But always sDocker containers exit code w search the channel first and second, check the FAQ (this document), most likely all your questions are already answered here.\\nYou can also tag the bot @ZoomcampQABot to help you conduct the search, but don’t rely on its answers 100%, it is pretty good though.',\n",
       "  'section': 'General course-related questions',\n",
       "  'question': 'Course - Can I get support if I take the course in the self-paced mode?',\n",
       "  'course': 'data-engineering-zoomcamp'}]"
      ]
     },
     "execution_count": 54,
     "metadata": {},
     "output_type": "execute_result"
    }
   ],
   "source": [
    "result"
   ]
  },
  {
   "cell_type": "markdown",
   "id": "ec8b24a1-4891-4f9b-a0d7-18444666be3d",
   "metadata": {},
   "source": [
    "# LLMs"
   ]
  },
  {
   "cell_type": "code",
   "execution_count": 55,
   "id": "d12bfbdd-4e49-4eef-8c18-3410a1a9cff9",
   "metadata": {},
   "outputs": [],
   "source": [
    "from openai import OpenAI\n",
    "client =OpenAI()"
   ]
  },
  {
   "cell_type": "code",
   "execution_count": 56,
   "id": "b42b9c68-277b-44d9-8ac0-4d4491d85da3",
   "metadata": {},
   "outputs": [],
   "source": [
    "response=client.chat.completions.create(\n",
    "    model='gpt-4o',\n",
    "    messages=[{\"role\":\"user\",\"content\":q}]\n",
    ")"
   ]
  },
  {
   "cell_type": "code",
   "execution_count": 15,
   "id": "d40ee54d-fd7d-4ebe-9830-9f3dce18e1b5",
   "metadata": {},
   "outputs": [
    {
     "data": {
      "text/plain": [
       "\"To determine if you can still enroll in a course, you'll need to check a few key details:\\n\\n1. **Enrollment Deadlines:** Look up the specific deadlines for enrolling in the course. These deadlines are often posted on the course website or provided by the institution offering the course.\\n\\n2. **Availability:** Check if there are still open seats in the course. Some courses may have limited enrollment and could fill up quickly.\\n\\n3. **Prerequisites:** Ensure you meet any prerequisites or have completed required courses prior to enrolling.\\n\\n4. **Institution Policies:** Different institutions have their own policies regarding late enrollment. Some might allow it with special permission from the instructor or department.\\n\\n5. **Contact Information:** If you can't find the information online or need clarification, contact the registrar's office, academic advisor, or the instructor of the course directly.\\n\\nIf you provide more specific details about the course or the institution offering it, I could help you further navigate the enrollment process.\""
      ]
     },
     "execution_count": 15,
     "metadata": {},
     "output_type": "execute_result"
    }
   ],
   "source": [
    "response.choices[0].message.content"
   ]
  },
  {
   "cell_type": "code",
   "execution_count": 57,
   "id": "a7792080-91c0-46b1-b66b-0422331a6699",
   "metadata": {},
   "outputs": [],
   "source": [
    "prompt_template = \"\"\"\n",
    "You are a course teaching assistant.\n",
    "Use only the facts from the CONTEXT when answering the QUESTION\n",
    "\n",
    "QUESTION:{question}\n",
    "\n",
    "CONTEXT:{context}\n",
    "\n",
    "\n",
    "\"\"\"\n",
    "context =\"\"\n",
    "\n",
    "for doc in result:\n",
    "        context = context + f\"section: {doc['section']}\\nquestion: {doc['question']}\\nanswer: {doc['text']}\\n\\n\"\n",
    "        prompt = prompt_template.format(question=query, context=context).strip()\n",
    "\n"
   ]
  },
  {
   "cell_type": "code",
   "execution_count": 58,
   "id": "2a727b48-c54c-4cb4-8970-1208ec524de3",
   "metadata": {},
   "outputs": [
    {
     "name": "stdout",
     "output_type": "stream",
     "text": [
      "section: General course-related questions\n",
      "question: Course - Can I still join the course after the start date?\n",
      "answer: Yes, even if you don't register, you're still eligible to submit the homeworks.\n",
      "Be aware, however, that there will be deadlines for turning in the final projects. So don't leave everything for the last minute.\n",
      "\n",
      "section: General course-related questions\n",
      "question: Course - Can I follow the course after it finishes?\n",
      "answer: Yes, we will keep all the materials after the course finishes, so you can follow the course at your own pace after it finishes.\n",
      "You can also continue looking at the homeworks and continue preparing for the next cohort. I guess you can also start working on your final capstone project.\n",
      "\n",
      "section: General course-related questions\n",
      "question: Course - When will the course start?\n",
      "answer: The purpose of this document is to capture frequently asked technical questions\n",
      "The exact day and hour of the course will be 15th Jan 2024 at 17h00. The course will start with the first  “Office Hours'' live.1\n",
      "Subscribe to course public Google Calendar (it works from Desktop only).\n",
      "Register before the course starts using this link.\n",
      "Join the course Telegram channel with announcements.\n",
      "Don’t forget to register in DataTalks.Club's Slack and join the channel.\n",
      "\n",
      "section: General course-related questions\n",
      "question: Course - What can I do before the course starts?\n",
      "answer: You can start by installing and setting up all the dependencies and requirements:\n",
      "Google cloud account\n",
      "Google Cloud SDK\n",
      "Python 3 (installed with Anaconda)\n",
      "Terraform\n",
      "Git\n",
      "Look over the prerequisites and syllabus to see if you are comfortable with these subjects.\n",
      "\n",
      "section: General course-related questions\n",
      "question: Course - Can I get support if I take the course in the self-paced mode?\n",
      "answer: Yes, the slack channel remains open and you can ask questions there. But always sDocker containers exit code w search the channel first and second, check the FAQ (this document), most likely all your questions are already answered here.\n",
      "You can also tag the bot @ZoomcampQABot to help you conduct the search, but don’t rely on its answers 100%, it is pretty good though.\n",
      "\n",
      "\n"
     ]
    }
   ],
   "source": [
    "print(context)"
   ]
  },
  {
   "cell_type": "markdown",
   "id": "1ab35f3e-4107-401e-b59c-ac6af2210946",
   "metadata": {},
   "source": [
    "# Cleaning the Code"
   ]
  },
  {
   "cell_type": "code",
   "execution_count": 65,
   "id": "cfc3d7c1-6f5f-4b54-aec9-8c2d93ae9d78",
   "metadata": {},
   "outputs": [
    {
     "data": {
      "text/plain": [
       "<minsearch.Index at 0x16bb9f0e3a0>"
      ]
     },
     "execution_count": 65,
     "metadata": {},
     "output_type": "execute_result"
    }
   ],
   "source": [
    "\n",
    "index = minsearch.Index(\n",
    "    text_fields=[\"question\", \"text\", \"section\"],\n",
    "    keyword_fields=[\"course\"]\n",
    ")\n",
    "index.fit(documents)"
   ]
  },
  {
   "cell_type": "code",
   "execution_count": 71,
   "id": "426bfef1-f9ea-4f00-9629-ed70bc4290b5",
   "metadata": {},
   "outputs": [],
   "source": [
    "def search(query):\n",
    "    boost = {'question': 3.0, 'section': 0.5}\n",
    "\n",
    "    results = index.search(\n",
    "        query=query,\n",
    "        filter_dict={'course': 'data-engineering-zoomcamp'},\n",
    "        boost_dict=boost,\n",
    "        num_results=5\n",
    "    )\n",
    "\n",
    "    return results"
   ]
  },
  {
   "cell_type": "code",
   "execution_count": 59,
   "id": "b4572df0-04fc-4e3b-8a57-233688b2ac82",
   "metadata": {},
   "outputs": [],
   "source": [
    "result=search('How do I run Kafka')"
   ]
  },
  {
   "cell_type": "code",
   "execution_count": 72,
   "id": "c307e3ab-60e0-40b8-b2a6-7b81320fb118",
   "metadata": {},
   "outputs": [],
   "source": [
    "def build_prompt(query, search_results):\n",
    "    prompt_template = \"\"\"\n",
    "You're a course teaching assistant. Answer the QUESTION based on the CONTEXT from the FAQ database.\n",
    "Use only the facts from the CONTEXT when answering the QUESTION.\n",
    "\n",
    "QUESTION: {question}\n",
    "\n",
    "CONTEXT: \n",
    "{context}\n",
    "\"\"\".strip()\n",
    "\n",
    "    context = \"\"\n",
    "    \n",
    "    for doc in search_results:\n",
    "        context = context + f\"section: {doc['section']}\\nquestion: {doc['question']}\\nanswer: {doc['text']}\\n\\n\"\n",
    "    \n",
    "    prompt = prompt_template.format(question=query, context=context).strip()\n",
    "    return prompt"
   ]
  },
  {
   "cell_type": "code",
   "execution_count": 73,
   "id": "a6765aac-a117-4c55-833b-ff906d17f512",
   "metadata": {},
   "outputs": [],
   "source": [
    "def llm(prompt):\n",
    "    response = client.chat.completions.create(\n",
    "        model='gpt-4o',\n",
    "        messages=[{\"role\": \"user\", \"content\": prompt}]\n",
    "    )\n",
    "    \n",
    "    return response.choices[0].message.content\n",
    "    "
   ]
  },
  {
   "cell_type": "code",
   "execution_count": 74,
   "id": "cb914cd7-0f61-46fe-bc17-6c5dfee409e8",
   "metadata": {},
   "outputs": [],
   "source": [
    "query='What is Kafka used for'\n",
    "result=search(query)\n",
    "prompt=build_prompt(query,result)\n",
    "answer =llm(prompt=prompt)"
   ]
  },
  {
   "cell_type": "code",
   "execution_count": 75,
   "id": "c8b483e8-0cfa-44ab-8475-00ea3a23360f",
   "metadata": {},
   "outputs": [
    {
     "data": {
      "text/plain": [
       "'Kafka is used for building real-time data pipelines and streaming applications. It allows you to publish and subscribe to streams of records in a fault-tolerant and scalable manner. Kafka is particularly useful for applications that require real-time processing of data across distributed systems.'"
      ]
     },
     "execution_count": 75,
     "metadata": {},
     "output_type": "execute_result"
    }
   ],
   "source": [
    "answer"
   ]
  },
  {
   "cell_type": "code",
   "execution_count": null,
   "id": "fab3a6db-d6ec-412f-80e7-e65615cf68d2",
   "metadata": {},
   "outputs": [],
   "source": []
  }
 ],
 "metadata": {
  "kernelspec": {
   "display_name": "Python 3 (ipykernel)",
   "language": "python",
   "name": "python3"
  },
  "language_info": {
   "codemirror_mode": {
    "name": "ipython",
    "version": 3
   },
   "file_extension": ".py",
   "mimetype": "text/x-python",
   "name": "python",
   "nbconvert_exporter": "python",
   "pygments_lexer": "ipython3",
   "version": "3.9.13"
  }
 },
 "nbformat": 4,
 "nbformat_minor": 5
}
